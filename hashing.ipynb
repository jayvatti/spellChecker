{
 "cells": [
  {
   "cell_type": "code",
   "execution_count": 5,
   "id": "c5657854",
   "metadata": {},
   "outputs": [
    {
     "data": {
      "text/html": [
       "<div>\n",
       "<style scoped>\n",
       "    .dataframe tbody tr th:only-of-type {\n",
       "        vertical-align: middle;\n",
       "    }\n",
       "\n",
       "    .dataframe tbody tr th {\n",
       "        vertical-align: top;\n",
       "    }\n",
       "\n",
       "    .dataframe thead th {\n",
       "        text-align: right;\n",
       "    }\n",
       "</style>\n",
       "<table border=\"1\" class=\"dataframe\">\n",
       "  <thead>\n",
       "    <tr style=\"text-align: right;\">\n",
       "      <th></th>\n",
       "      <th>word</th>\n",
       "    </tr>\n",
       "  </thead>\n",
       "  <tbody>\n",
       "    <tr>\n",
       "      <th>0</th>\n",
       "      <td>a</td>\n",
       "    </tr>\n",
       "    <tr>\n",
       "      <th>1</th>\n",
       "      <td>aa</td>\n",
       "    </tr>\n",
       "    <tr>\n",
       "      <th>2</th>\n",
       "      <td>aaa</td>\n",
       "    </tr>\n",
       "    <tr>\n",
       "      <th>3</th>\n",
       "      <td>aaron</td>\n",
       "    </tr>\n",
       "    <tr>\n",
       "      <th>4</th>\n",
       "      <td>ab</td>\n",
       "    </tr>\n",
       "    <tr>\n",
       "      <th>...</th>\n",
       "      <td>...</td>\n",
       "    </tr>\n",
       "    <tr>\n",
       "      <th>9995</th>\n",
       "      <td>zope</td>\n",
       "    </tr>\n",
       "    <tr>\n",
       "      <th>9996</th>\n",
       "      <td>zshops</td>\n",
       "    </tr>\n",
       "    <tr>\n",
       "      <th>9997</th>\n",
       "      <td>zu</td>\n",
       "    </tr>\n",
       "    <tr>\n",
       "      <th>9998</th>\n",
       "      <td>zum</td>\n",
       "    </tr>\n",
       "    <tr>\n",
       "      <th>9999</th>\n",
       "      <td>zus</td>\n",
       "    </tr>\n",
       "  </tbody>\n",
       "</table>\n",
       "<p>10000 rows × 1 columns</p>\n",
       "</div>"
      ],
      "text/plain": [
       "        word\n",
       "0          a\n",
       "1         aa\n",
       "2        aaa\n",
       "3      aaron\n",
       "4         ab\n",
       "...      ...\n",
       "9995    zope\n",
       "9996  zshops\n",
       "9997      zu\n",
       "9998     zum\n",
       "9999     zus\n",
       "\n",
       "[10000 rows x 1 columns]"
      ]
     },
     "execution_count": 5,
     "metadata": {},
     "output_type": "execute_result"
    }
   ],
   "source": [
    "import pandas as pd\n",
    "\n",
    "df = pd.read_csv('words.txt', header=None, names=['word'], dtype = str, keep_default_na=False)\n",
    "\n",
    "df"
   ]
  },
  {
   "cell_type": "code",
   "execution_count": 6,
   "id": "8a7d717f",
   "metadata": {},
   "outputs": [],
   "source": [
    "# type_counts = df['word'].apply(type).value_counts()\n",
    "# print(type_counts)\n",
    "\n",
    "# df[df['word'].apply(lambda x: isinstance(x, float))]\n",
    "# df = df.dropna()"
   ]
  },
  {
   "cell_type": "code",
   "execution_count": 7,
   "id": "e0786f68",
   "metadata": {},
   "outputs": [],
   "source": [
    "word_dict = {}\n",
    "#{chr(i): [] for i in range(97, 123)}\n",
    "\n",
    "#iterating over each word in the dataframe\n",
    "for word in df['word']:\n",
    "    #checking if the first letter of the word exists in the dictionary\n",
    "    if word[0] not in word_dict.keys():\n",
    "        word_dict[word[0]] = []\n",
    "    #appending the word to the respective key\n",
    "    word_dict[word[0]].append(word)\n",
    "\n"
   ]
  },
  {
   "cell_type": "code",
   "execution_count": 8,
   "id": "5e75a5bc",
   "metadata": {},
   "outputs": [
    {
     "name": "stdout",
     "output_type": "stream",
     "text": [
      "Suggested correction for 'abrod' is 'abroad'\n"
     ]
    }
   ],
   "source": [
    "def longest_common_subsequence(s1, s2):\n",
    "    m, n = len(s1), len(s2)\n",
    "    dp = [[0] * (n + 1) for _ in range(m + 1)]\n",
    "\n",
    "    for i in range(1, m + 1):\n",
    "        for j in range(1, n + 1):\n",
    "            if s1[i-1] == s2[j-1]:\n",
    "                dp[i][j] = dp[i-1][j-1] + 1\n",
    "            else:\n",
    "                dp[i][j] = max(dp[i-1][j], dp[i][j-1])\n",
    "    \n",
    "    return dp[m][n]\n",
    "\n",
    "def spell_checker(word, word_dict):\n",
    "    #using the first letter to narrow down the words to check\n",
    "    possible_words = word_dict.get(word[0], [])\n",
    "\n",
    "    #finding the word with the maximum LCS value\n",
    "    max_lcs = 0\n",
    "    best_match = None\n",
    "\n",
    "    for w in possible_words:\n",
    "        lcs_val = longest_common_subsequence(word, w)\n",
    "        if lcs_val > max_lcs:\n",
    "            max_lcs = lcs_val\n",
    "            best_match = w\n",
    "\n",
    "    return best_match\n",
    "\n",
    "# Sample usage\n",
    "word = \"abrod\"\n",
    "corrected_word = spell_checker(word, word_dict)\n",
    "print(f\"Suggested correction for '{word}' is '{corrected_word}'\")\n"
   ]
  },
  {
   "cell_type": "code",
   "execution_count": 9,
   "id": "87d074ec",
   "metadata": {},
   "outputs": [
    {
     "name": "stdout",
     "output_type": "stream",
     "text": [
      "Suggested correction for 'abrod' is 'abroad'\n"
     ]
    }
   ],
   "source": [
    "def edit_distance(s1, s2):\n",
    "    m, n = len(s1), len(s2)\n",
    "    dp = [[0 for x in range(n+1)] for x in range(m+1)]\n",
    "\n",
    "    for i in range(m+1):\n",
    "        for j in range(n+1):\n",
    "            if i == 0:\n",
    "                dp[i][j] = j\n",
    "            elif j == 0:\n",
    "                dp[i][j] = i\n",
    "            elif s1[i-1] == s2[j-1]:\n",
    "                dp[i][j] = dp[i-1][j-1]\n",
    "            else:\n",
    "                dp[i][j] = 1 + min(dp[i-1][j], dp[i][j-1], dp[i-1][j-1])\n",
    "\n",
    "    return dp[m][n]\n",
    "\n",
    "def spell_checker_edit_distance(word, word_dict):\n",
    "    possible_words = word_dict.get(word[0], [])\n",
    "    min_distance = float('inf')\n",
    "    best_match = None\n",
    "\n",
    "    for w in possible_words:\n",
    "        distance = edit_distance(word, w)\n",
    "        if distance < min_distance:\n",
    "            min_distance = distance\n",
    "            best_match = w\n",
    "\n",
    "    return best_match\n",
    "\n",
    "\n",
    "word = \"abrod\"\n",
    "corrected_word = spell_checker_edit_distance(word, word_dict)\n",
    "print(f\"Suggested correction for '{word}' is '{corrected_word}'\")"
   ]
  },
  {
   "cell_type": "code",
   "execution_count": 10,
   "id": "0fedab16",
   "metadata": {},
   "outputs": [
    {
     "name": "stdout",
     "output_type": "stream",
     "text": [
      "Suggested correction for 'abrod' is 'abroad'\n"
     ]
    }
   ],
   "source": [
    "def jaccard_similarity(set1, set2):\n",
    "    \"\"\"\n",
    "    computing the Jaccard Similarity of two sets\n",
    "    \"\"\"\n",
    "    intersection_size = len(set1.intersection(set2))\n",
    "    union_size = len(set1.union(set2))\n",
    "    \n",
    "    return intersection_size / union_size\n",
    "\n",
    "def ngram_similarity(word1, word2, n=2):\n",
    "    ngrams_word1 = set([word1[i:i+n] for i in range(len(word1)-n+1)])\n",
    "    ngrams_word2 = set([word2[i:i+n] for i in range(len(word2)-n+1)])\n",
    "\n",
    "    return jaccard_similarity(ngrams_word1, ngrams_word2)\n",
    "\n",
    "def spell_checker_ngram(word, word_dict, n=2):\n",
    "    possible_words = word_dict.get(word[0], [])\n",
    "    max_similarity = 0\n",
    "    best_match = None\n",
    "\n",
    "    for w in possible_words:\n",
    "        similarity = ngram_similarity(word, w, n)\n",
    "        if similarity > max_similarity:\n",
    "            max_similarity = similarity\n",
    "            best_match = w\n",
    "\n",
    "    return best_match\n",
    "\n",
    "word = \"abrod\"\n",
    "corrected_word = spell_checker_ngram(word, word_dict)\n",
    "print(f\"Suggested correction for '{word}' is '{corrected_word}'\")\n"
   ]
  },
  {
   "cell_type": "code",
   "execution_count": 12,
   "id": "b93951c0",
   "metadata": {},
   "outputs": [
    {
     "name": "stdout",
     "output_type": "stream",
     "text": [
      "<symspellpy.symspellpy.SymSpell object at 0x1046b6ca0>\n",
      "Suggested correction for 'abrod' is 'abroad'\n"
     ]
    }
   ],
   "source": [
    "from symspellpy import SymSpell, Verbosity\n",
    "\n",
    "def setup_symspell(word_dict):\n",
    "    sym_spell = SymSpell(max_dictionary_edit_distance=2, prefix_length=7)\n",
    "    \n",
    "    for word_list in word_dict.values():\n",
    "        for word in word_list:\n",
    "            sym_spell.create_dictionary_entry(word, 1)\n",
    "    return sym_spell\n",
    "\n",
    "def spell_checker_symspell(word, sym_spell):\n",
    "    suggestions = sym_spell.lookup(word, Verbosity.CLOSEST, max_edit_distance=2)\n",
    "    if suggestions:\n",
    "        return suggestions[0].term\n",
    "    return None\n",
    "\n",
    "sym_spell = setup_symspell(word_dict)\n",
    "\n",
    "word = \"abrod\"\n",
    "corrected_word = spell_checker_symspell(word, sym_spell)\n",
    "print(f\"Suggested correction for '{word}' is '{corrected_word}'\")"
   ]
  },
  {
   "cell_type": "code",
   "execution_count": null,
   "id": "fd4d4240",
   "metadata": {},
   "outputs": [],
   "source": []
  }
 ],
 "metadata": {
  "kernelspec": {
   "display_name": "Python 3 (ipykernel)",
   "language": "python",
   "name": "python3"
  },
  "language_info": {
   "codemirror_mode": {
    "name": "ipython",
    "version": 3
   },
   "file_extension": ".py",
   "mimetype": "text/x-python",
   "name": "python",
   "nbconvert_exporter": "python",
   "pygments_lexer": "ipython3",
   "version": "3.9.13"
  }
 },
 "nbformat": 4,
 "nbformat_minor": 5
}
